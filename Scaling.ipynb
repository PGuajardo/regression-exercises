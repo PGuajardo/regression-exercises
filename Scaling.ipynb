{
 "cells": [
  {
   "cell_type": "code",
   "execution_count": 1,
   "id": "856f6a1f",
   "metadata": {},
   "outputs": [],
   "source": [
    "import warnings\n",
    "warnings.filterwarnings(\"ignore\")\n",
    "\n",
    "from sklearn.model_selection import train_test_split\n",
    "\n",
    "import pandas as pd\n",
    "import matplotlib.pyplot as plt\n",
    "import seaborn as sns\n",
    "import numpy as np\n",
    "\n",
    "#Scaling Processers\n",
    "import sklearn.preprocessing\n",
    "\n",
    "import env\n",
    "import acquireZillow"
   ]
  },
  {
   "cell_type": "code",
   "execution_count": 2,
   "id": "a6e0548e",
   "metadata": {},
   "outputs": [
    {
     "data": {
      "text/html": [
       "<div>\n",
       "<style scoped>\n",
       "    .dataframe tbody tr th:only-of-type {\n",
       "        vertical-align: middle;\n",
       "    }\n",
       "\n",
       "    .dataframe tbody tr th {\n",
       "        vertical-align: top;\n",
       "    }\n",
       "\n",
       "    .dataframe thead th {\n",
       "        text-align: right;\n",
       "    }\n",
       "</style>\n",
       "<table border=\"1\" class=\"dataframe\">\n",
       "  <thead>\n",
       "    <tr style=\"text-align: right;\">\n",
       "      <th></th>\n",
       "      <th>bedrooms</th>\n",
       "      <th>bathrooms</th>\n",
       "      <th>area</th>\n",
       "      <th>tax_value</th>\n",
       "      <th>year_built</th>\n",
       "      <th>taxamount</th>\n",
       "      <th>fips</th>\n",
       "    </tr>\n",
       "  </thead>\n",
       "  <tbody>\n",
       "    <tr>\n",
       "      <th>10057</th>\n",
       "      <td>4.0</td>\n",
       "      <td>2.0</td>\n",
       "      <td>1561</td>\n",
       "      <td>248240.0</td>\n",
       "      <td>1973.0</td>\n",
       "      <td>2504.40</td>\n",
       "      <td>6059.0</td>\n",
       "    </tr>\n",
       "    <tr>\n",
       "      <th>2004969</th>\n",
       "      <td>3.0</td>\n",
       "      <td>2.0</td>\n",
       "      <td>1770</td>\n",
       "      <td>88390.0</td>\n",
       "      <td>1960.0</td>\n",
       "      <td>1671.93</td>\n",
       "      <td>6037.0</td>\n",
       "    </tr>\n",
       "    <tr>\n",
       "      <th>306031</th>\n",
       "      <td>2.0</td>\n",
       "      <td>1.0</td>\n",
       "      <td>1452</td>\n",
       "      <td>81169.0</td>\n",
       "      <td>1946.0</td>\n",
       "      <td>1310.88</td>\n",
       "      <td>6037.0</td>\n",
       "    </tr>\n",
       "    <tr>\n",
       "      <th>1038594</th>\n",
       "      <td>3.0</td>\n",
       "      <td>1.0</td>\n",
       "      <td>1000</td>\n",
       "      <td>119174.0</td>\n",
       "      <td>1950.0</td>\n",
       "      <td>1900.28</td>\n",
       "      <td>6037.0</td>\n",
       "    </tr>\n",
       "    <tr>\n",
       "      <th>270959</th>\n",
       "      <td>3.0</td>\n",
       "      <td>2.0</td>\n",
       "      <td>1974</td>\n",
       "      <td>432268.0</td>\n",
       "      <td>1988.0</td>\n",
       "      <td>5315.27</td>\n",
       "      <td>6037.0</td>\n",
       "    </tr>\n",
       "  </tbody>\n",
       "</table>\n",
       "</div>"
      ],
      "text/plain": [
       "         bedrooms  bathrooms  area  tax_value  year_built  taxamount    fips\n",
       "10057         4.0        2.0  1561   248240.0      1973.0    2504.40  6059.0\n",
       "2004969       3.0        2.0  1770    88390.0      1960.0    1671.93  6037.0\n",
       "306031        2.0        1.0  1452    81169.0      1946.0    1310.88  6037.0\n",
       "1038594       3.0        1.0  1000   119174.0      1950.0    1900.28  6037.0\n",
       "270959        3.0        2.0  1974   432268.0      1988.0    5315.27  6037.0"
      ]
     },
     "execution_count": 2,
     "metadata": {},
     "output_type": "execute_result"
    }
   ],
   "source": [
    "train, validate, test = acquireZillow.wrangle_zillow()\n",
    "train.head()"
   ]
  },
  {
   "cell_type": "code",
   "execution_count": 33,
   "id": "71532c63",
   "metadata": {},
   "outputs": [
    {
     "data": {
      "text/plain": [
       "22"
      ]
     },
     "execution_count": 33,
     "metadata": {},
     "output_type": "execute_result"
    }
   ],
   "source": [
    "train.taxvaluedollarcnt.min()"
   ]
  },
  {
   "cell_type": "markdown",
   "id": "123fbefd",
   "metadata": {},
   "source": [
    "## Min-Max Scaler"
   ]
  },
  {
   "cell_type": "code",
   "execution_count": 4,
   "id": "babb2113",
   "metadata": {},
   "outputs": [
    {
     "data": {
      "text/plain": [
       "array([[0.66666667, 0.23984259],\n",
       "       [0.33333333, 0.15946863],\n",
       "       [0.        , 0.1246097 ],\n",
       "       [0.33333333, 0.18151555],\n",
       "       [0.33333333, 0.51122862],\n",
       "       [0.        , 0.19076878],\n",
       "       [0.33333333, 0.12972292],\n",
       "       [0.        , 0.67897342],\n",
       "       [0.33333333, 0.24370164],\n",
       "       [0.33333333, 0.10290361]])"
      ]
     },
     "execution_count": 4,
     "metadata": {},
     "output_type": "execute_result"
    }
   ],
   "source": [
    "# 1. create the object\n",
    "scaler_min_max = sklearn.preprocessing.MinMaxScaler()\n",
    "\n",
    "# 2. fit the object (learn the min and max value)\n",
    "scaler_min_max.fit(train[['bedrooms', 'taxamount']])\n",
    "\n",
    "# 3. use the object (use the min, max to do the transformation)\n",
    "\n",
    "scaled_bill = scaler_min_max.transform(train[['bedrooms', 'taxamount']])\n",
    "scaled_bill[:10]"
   ]
  },
  {
   "cell_type": "code",
   "execution_count": 5,
   "id": "ee03ea0d",
   "metadata": {},
   "outputs": [],
   "source": [
    "# assign the scaled values as new columns in the train\n",
    "train[['bedrooms_scaled', 'taxamount_scaled']] = scaled_bill"
   ]
  },
  {
   "cell_type": "code",
   "execution_count": 6,
   "id": "06e230b9",
   "metadata": {},
   "outputs": [],
   "source": [
    "# Create them on the test and validate\n",
    "test[['bedrooms_scaled', 'taxamount_scaled']] = scaler_min_max.transform(test[['bedrooms', 'taxamount']])\n",
    "validate[['bedrooms_scaled', 'taxamount_scaled']] = scaler_min_max.transform(validate[['bedrooms', 'taxamount']])"
   ]
  },
  {
   "cell_type": "code",
   "execution_count": 7,
   "id": "ab96624e",
   "metadata": {},
   "outputs": [
    {
     "data": {
      "image/png": "[encoded data removed]",
      "text/plain": [
       "<Figure size 936x432 with 2 Axes>"
      ]
     },
     "metadata": {
      "needs_background": "light"
     },
     "output_type": "display_data"
    }
   ],
   "source": [
    "# Visualize the un-scaled and scaled distribution for total_bill\n",
    "\n",
    "plt.figure(figsize=(13, 6))\n",
    "\n",
    "# subplot 1\n",
    "plt.subplot(121)\n",
    "train.bedrooms.plot.hist(title='Original')\n",
    "\n",
    "#subplot 2\n",
    "plt.subplot(122)\n",
    "train.bedrooms_scaled.plot.hist(title='Min-Max Scaled');"
   ]
  },
  {
   "cell_type": "code",
   "execution_count": 8,
   "id": "a53018ed",
   "metadata": {},
   "outputs": [
    {
     "data": {
      "image/png": "[encoded data removed]",
      "text/plain": [
       "<Figure size 432x288 with 1 Axes>"
      ]
     },
     "metadata": {
      "needs_background": "light"
     },
     "output_type": "display_data"
    }
   ],
   "source": [
    "# Visualize the scaling taxamount:\n",
    "\n",
    "plt.scatter(train.taxamount, train.taxamount_scaled)\n",
    "plt.xlabel('Total Bill ($)')\n",
    "plt.ylabel('Total Bill Scaled')\n",
    "plt.title('Min-Max Scaler');"
   ]
  },
  {
   "cell_type": "markdown",
   "id": "775f7882",
   "metadata": {},
   "source": [
    "## Standard Scaler"
   ]
  },
  {
   "cell_type": "code",
   "execution_count": 10,
   "id": "fbb66b17",
   "metadata": {},
   "outputs": [],
   "source": [
    "# 1. create the object\n",
    "scaler_standard = sklearn.preprocessing.StandardScaler()\n",
    "\n",
    "# 2. fit the object\n",
    "scaler_standard.fit(train[['tax_value']])\n",
    "\n",
    "# 3. use the object. Scale total_bill only\n",
    "train['tax_value_scaled'] = scaler_standard.transform(train[['tax_value']])\n",
    "test['tax_value_scaled'] = scaler_standard.transform(test[['tax_value']])\n",
    "validate['tax_value_scaled'] = scaler_standard.transform(validate[['tax_value']])"
   ]
  },
  {
   "cell_type": "code",
   "execution_count": 12,
   "id": "5ef0a893",
   "metadata": {},
   "outputs": [
    {
     "data": {
      "image/png": "[encoded data removed]",
      "text/plain": [
       "<Figure size 936x432 with 2 Axes>"
      ]
     },
     "metadata": {
      "needs_background": "light"
     },
     "output_type": "display_data"
    }
   ],
   "source": [
    "#plot the scaled and unscaled distributions\n",
    "plt.figure(figsize=(13, 6))\n",
    "\n",
    "plt.subplot(121)\n",
    "train.tax_value.plot.hist(title='Original')\n",
    "\n",
    "\n",
    "plt.subplot(122)\n",
    "train.tax_value_scaled.plot.hist(title='Standard Scaled');"
   ]
  },
  {
   "cell_type": "code",
   "execution_count": 13,
   "id": "02d12813",
   "metadata": {},
   "outputs": [
    {
     "data": {
      "image/png": "[encoded data removed]",
      "text/plain": [
       "<Figure size 432x288 with 1 Axes>"
      ]
     },
     "metadata": {
      "needs_background": "light"
     },
     "output_type": "display_data"
    }
   ],
   "source": [
    "plt.scatter(train.tax_value, train.tax_value_scaled)\n",
    "plt.xlabel('tax_value ($)')\n",
    "plt.ylabel('tax_value Scaled')\n",
    "plt.title('Standard Scaler');"
   ]
  },
  {
   "cell_type": "markdown",
   "id": "5e29c2df",
   "metadata": {},
   "source": [
    "## Robust Scaler"
   ]
  },
  {
   "cell_type": "code",
   "execution_count": 14,
   "id": "76425f7d",
   "metadata": {},
   "outputs": [
    {
     "data": {
      "image/png": "[encoded data removed]",
      "text/plain": [
       "<Figure size 936x432 with 2 Axes>"
      ]
     },
     "metadata": {
      "needs_background": "light"
     },
     "output_type": "display_data"
    }
   ],
   "source": [
    "# 1. create the object\n",
    "scaler_robust = sklearn.preprocessing.RobustScaler()\n",
    "\n",
    "# 2. fit the object\n",
    "scaler_robust.fit(train[['area']])\n",
    "\n",
    "# 3. use the object\n",
    "train['area_scaled'] = scaler_robust.transform(train[['area']])\n",
    "test['area_scaled'] = scaler_robust.transform(test[['area']])\n",
    "validate['area_scaled'] = scaler_robust.transform(validate[['area']])\n",
    "\n",
    "#plot the scaled and unscaled distributions\n",
    "plt.figure(figsize=(13, 6))\n",
    "plt.subplot(121)\n",
    "train.area.plot.hist(title='Original')\n",
    "plt.subplot(122)\n",
    "train.area_scaled.plot.hist(title='Robust Scaled');"
   ]
  },
  {
   "cell_type": "markdown",
   "id": "0a15c1cb",
   "metadata": {},
   "source": [
    "## Inverse Scaler"
   ]
  },
  {
   "cell_type": "code",
   "execution_count": 15,
   "id": "d0a690cf",
   "metadata": {},
   "outputs": [
    {
     "data": {
      "text/plain": [
       "array([ 0.01721854,  0.29403974, -0.12715232, ...,  0.77350993,\n",
       "       -1.01721854, -0.55099338])"
      ]
     },
     "execution_count": 15,
     "metadata": {},
     "output_type": "execute_result"
    }
   ],
   "source": [
    "train.area_scaled.values"
   ]
  },
  {
   "cell_type": "code",
   "execution_count": 17,
   "id": "e4e76f27",
   "metadata": {},
   "outputs": [],
   "source": [
    "train['inverse_calculatedfinishedsquarefeet_scaled'] = scaler_robust.inverse_transform(train.area_scaled.values.reshape(-1,1))\n"
   ]
  },
  {
   "cell_type": "code",
   "execution_count": 18,
   "id": "34f183ef",
   "metadata": {},
   "outputs": [
    {
     "data": {
      "text/html": [
       "<div>\n",
       "<style scoped>\n",
       "    .dataframe tbody tr th:only-of-type {\n",
       "        vertical-align: middle;\n",
       "    }\n",
       "\n",
       "    .dataframe tbody tr th {\n",
       "        vertical-align: top;\n",
       "    }\n",
       "\n",
       "    .dataframe thead th {\n",
       "        text-align: right;\n",
       "    }\n",
       "</style>\n",
       "<table border=\"1\" class=\"dataframe\">\n",
       "  <thead>\n",
       "    <tr style=\"text-align: right;\">\n",
       "      <th></th>\n",
       "      <th>bedrooms</th>\n",
       "      <th>bathrooms</th>\n",
       "      <th>area</th>\n",
       "      <th>tax_value</th>\n",
       "      <th>year_built</th>\n",
       "      <th>taxamount</th>\n",
       "      <th>fips</th>\n",
       "      <th>bedrooms_scaled</th>\n",
       "      <th>taxamount_scaled</th>\n",
       "      <th>tax_value_scaled</th>\n",
       "      <th>area_scaled</th>\n",
       "      <th>inverse_calculatedfinishedsquarefeet_scaled</th>\n",
       "    </tr>\n",
       "  </thead>\n",
       "  <tbody>\n",
       "    <tr>\n",
       "      <th>10057</th>\n",
       "      <td>4.0</td>\n",
       "      <td>2.0</td>\n",
       "      <td>1561</td>\n",
       "      <td>248240.0</td>\n",
       "      <td>1973.0</td>\n",
       "      <td>2504.40</td>\n",
       "      <td>6059.0</td>\n",
       "      <td>0.666667</td>\n",
       "      <td>0.239843</td>\n",
       "      <td>-0.400643</td>\n",
       "      <td>0.017219</td>\n",
       "      <td>1561.0</td>\n",
       "    </tr>\n",
       "    <tr>\n",
       "      <th>2004969</th>\n",
       "      <td>3.0</td>\n",
       "      <td>2.0</td>\n",
       "      <td>1770</td>\n",
       "      <td>88390.0</td>\n",
       "      <td>1960.0</td>\n",
       "      <td>1671.93</td>\n",
       "      <td>6037.0</td>\n",
       "      <td>0.333333</td>\n",
       "      <td>0.159469</td>\n",
       "      <td>-1.203960</td>\n",
       "      <td>0.294040</td>\n",
       "      <td>1770.0</td>\n",
       "    </tr>\n",
       "    <tr>\n",
       "      <th>306031</th>\n",
       "      <td>2.0</td>\n",
       "      <td>1.0</td>\n",
       "      <td>1452</td>\n",
       "      <td>81169.0</td>\n",
       "      <td>1946.0</td>\n",
       "      <td>1310.88</td>\n",
       "      <td>6037.0</td>\n",
       "      <td>0.000000</td>\n",
       "      <td>0.124610</td>\n",
       "      <td>-1.240249</td>\n",
       "      <td>-0.127152</td>\n",
       "      <td>1452.0</td>\n",
       "    </tr>\n",
       "    <tr>\n",
       "      <th>1038594</th>\n",
       "      <td>3.0</td>\n",
       "      <td>1.0</td>\n",
       "      <td>1000</td>\n",
       "      <td>119174.0</td>\n",
       "      <td>1950.0</td>\n",
       "      <td>1900.28</td>\n",
       "      <td>6037.0</td>\n",
       "      <td>0.333333</td>\n",
       "      <td>0.181516</td>\n",
       "      <td>-1.049257</td>\n",
       "      <td>-0.725828</td>\n",
       "      <td>1000.0</td>\n",
       "    </tr>\n",
       "    <tr>\n",
       "      <th>270959</th>\n",
       "      <td>3.0</td>\n",
       "      <td>2.0</td>\n",
       "      <td>1974</td>\n",
       "      <td>432268.0</td>\n",
       "      <td>1988.0</td>\n",
       "      <td>5315.27</td>\n",
       "      <td>6037.0</td>\n",
       "      <td>0.333333</td>\n",
       "      <td>0.511229</td>\n",
       "      <td>0.524179</td>\n",
       "      <td>0.564238</td>\n",
       "      <td>1974.0</td>\n",
       "    </tr>\n",
       "  </tbody>\n",
       "</table>\n",
       "</div>"
      ],
      "text/plain": [
       "         bedrooms  bathrooms  area  tax_value  year_built  taxamount    fips  \\\n",
       "10057         4.0        2.0  1561   248240.0      1973.0    2504.40  6059.0   \n",
       "2004969       3.0        2.0  1770    88390.0      1960.0    1671.93  6037.0   \n",
       "306031        2.0        1.0  1452    81169.0      1946.0    1310.88  6037.0   \n",
       "1038594       3.0        1.0  1000   119174.0      1950.0    1900.28  6037.0   \n",
       "270959        3.0        2.0  1974   432268.0      1988.0    5315.27  6037.0   \n",
       "\n",
       "         bedrooms_scaled  taxamount_scaled  tax_value_scaled  area_scaled  \\\n",
       "10057           0.666667          0.239843         -0.400643     0.017219   \n",
       "2004969         0.333333          0.159469         -1.203960     0.294040   \n",
       "306031          0.000000          0.124610         -1.240249    -0.127152   \n",
       "1038594         0.333333          0.181516         -1.049257    -0.725828   \n",
       "270959          0.333333          0.511229          0.524179     0.564238   \n",
       "\n",
       "         inverse_calculatedfinishedsquarefeet_scaled  \n",
       "10057                                         1561.0  \n",
       "2004969                                       1770.0  \n",
       "306031                                        1452.0  \n",
       "1038594                                       1000.0  \n",
       "270959                                        1974.0  "
      ]
     },
     "execution_count": 18,
     "metadata": {},
     "output_type": "execute_result"
    }
   ],
   "source": [
    "train.head()"
   ]
  },
  {
   "cell_type": "markdown",
   "id": "9918b230",
   "metadata": {},
   "source": [
    "## Quantile Transformer"
   ]
  },
  {
   "cell_type": "code",
   "execution_count": 22,
   "id": "6ab0ab2f",
   "metadata": {},
   "outputs": [
    {
     "data": {
      "image/png": "[encoded data removed]",
      "text/plain": [
       "<Figure size 936x432 with 2 Axes>"
      ]
     },
     "metadata": {
      "needs_background": "light"
     },
     "output_type": "display_data"
    }
   ],
   "source": [
    "# 1. create the object\n",
    "scaler_Q = sklearn.preprocessing.QuantileTransformer(output_distribution='normal')\n",
    "\n",
    "# 2. fit the object\n",
    "scaler_Q.fit(train[['tax_value']])\n",
    "\n",
    "# 3. use the object. Scale total_bill only\n",
    "train['tax_value_scaled'] = scaler_Q.transform(train[['tax_value']])\n",
    "test['tax_value_scaled'] = scaler_Q.transform(test[['tax_value']])\n",
    "validate['tax_value_scaled'] = scaler_Q.transform(validate[['tax_value']])\n",
    "\n",
    "\n",
    "plt.figure(figsize=(13, 6))\n",
    "plt.subplot(121)\n",
    "train.tax_value.plot.hist(title='Original')\n",
    "plt.subplot(122)\n",
    "train.tax_value_scaled.plot.hist(title='Robust Scaled');"
   ]
  },
  {
   "cell_type": "code",
   "execution_count": 23,
   "id": "a7c9a1b7",
   "metadata": {},
   "outputs": [
    {
     "data": {
      "image/png": "[encoded data removed]",
      "text/plain": [
       "<Figure size 936x432 with 2 Axes>"
      ]
     },
     "metadata": {
      "needs_background": "light"
     },
     "output_type": "display_data"
    }
   ],
   "source": [
    "# 1. create the object\n",
    "scaler_Q_uniform = sklearn.preprocessing.QuantileTransformer()\n",
    "\n",
    "# 2. fit the object\n",
    "scaler_Q_uniform.fit(train[['tax_value']])\n",
    "\n",
    "# 3. use the object. Scale total_bill only\n",
    "train['tax_value_scaled'] = scaler_Q_uniform.transform(train[['tax_value']])\n",
    "test['tax_value_scaled'] = scaler_Q_uniform.transform(test[['tax_value']])\n",
    "validate['tax_value_scaled'] = scaler_Q_uniform.transform(validate[['tax_value']])\n",
    "\n",
    "\n",
    "plt.figure(figsize=(13, 6))\n",
    "plt.subplot(121)\n",
    "train.tax_value.plot.hist(title='Original')\n",
    "plt.subplot(122)\n",
    "train.tax_value_scaled.plot.hist(title='Robust Scaled');"
   ]
  },
  {
   "cell_type": "code",
   "execution_count": null,
   "id": "bd8cbabf",
   "metadata": {},
   "outputs": [],
   "source": []
  }
 ],
 "metadata": {
  "kernelspec": {
   "display_name": "Python 3",
   "language": "python",
   "name": "python3"
  },
  "language_info": {
   "codemirror_mode": {
    "name": "ipython",
    "version": 3
   },
   "file_extension": ".py",
   "mimetype": "text/x-python",
   "name": "python",
   "nbconvert_exporter": "python",
   "pygments_lexer": "ipython3",
   "version": "3.8.8"
  }
 },
 "nbformat": 4,
 "nbformat_minor": 5
}
